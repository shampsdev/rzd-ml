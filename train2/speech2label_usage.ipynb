{
 "cells": [
  {
   "cell_type": "code",
   "execution_count": 18,
   "metadata": {},
   "outputs": [],
   "source": [
    "from speech2label_classes import LSTMSpeechRecognizer, SpeechDataset\n",
    "import os\n",
    "import json\n",
    "import torch\n",
    "import torch.nn as nn\n",
    "from torch.utils.data import Dataset, DataLoader, random_split\n",
    "from torch.nn.utils.rnn import pad_sequence\n",
    "import librosa\n",
    "\n",
    "model_output_dir = \"./trained\""
   ]
  },
  {
   "cell_type": "code",
   "execution_count": 19,
   "metadata": {},
   "outputs": [
    {
     "name": "stderr",
     "output_type": "stream",
     "text": [
      "/tmp/ipykernel_3825/553630658.py:11: FutureWarning: You are using `torch.load` with `weights_only=False` (the current default value), which uses the default pickle module implicitly. It is possible to construct malicious pickle data which will execute arbitrary code during unpickling (See https://github.com/pytorch/pytorch/blob/main/SECURITY.md#untrusted-models for more details). In a future release, the default value for `weights_only` will be flipped to `True`. This limits the functions that could be executed during unpickling. Arbitrary objects will no longer be allowed to be loaded via this mode unless they are explicitly allowlisted by the user via `torch.serialization.add_safe_globals`. We recommend you start setting `weights_only=True` for any use case where you don't have full control of the loaded file. Please open an issue on GitHub for any issues related to this experimental feature.\n",
      "  model.load_state_dict(torch.load(os.path.join(model_output_dir, \"lstm_speech.pth\")))\n"
     ]
    },
    {
     "data": {
      "text/plain": [
       "LSTMSpeechRecognizer(\n",
       "  (lstm): LSTM(128, 2048, batch_first=True, bidirectional=True)\n",
       "  (fc1): Linear(in_features=4096, out_features=2048, bias=True)\n",
       "  (fc2): Linear(in_features=2048, out_features=30, bias=True)\n",
       "  (dropout): Dropout(p=0.5, inplace=False)\n",
       ")"
      ]
     },
     "execution_count": 19,
     "metadata": {},
     "output_type": "execute_result"
    }
   ],
   "source": [
    "# --- Гиперпараметры ---\n",
    "input_dim = 128  # Размерность MFCC\n",
    "hidden_dim = 2048  # Увеличение размерности скрытых слоев\n",
    "output_dim = 30  # Количество классов\n",
    "batch_size = 1  # Размер пакета\n",
    "learning_rate = 0.000001\n",
    "num_epochs = 3  # Увеличиваем количество эпох для более глубокого обучения\n",
    "\n",
    "device = torch.device(\"cpu\")\n",
    "model = LSTMSpeechRecognizer(input_dim, hidden_dim, output_dim).to(device)\n",
    "model.load_state_dict(torch.load(os.path.join(model_output_dir, \"lstm_speech.pth\")))\n",
    "model.eval()  # Переключаем модель в режим оценки"
   ]
  },
  {
   "cell_type": "code",
   "execution_count": 20,
   "metadata": {},
   "outputs": [],
   "source": [
    "def convert_texts_to_labels(texts):\n",
    "    unique_texts = list(set(texts))\n",
    "    text_to_index = {text: index for index, text in enumerate(unique_texts)}\n",
    "    labels = [text_to_index[text] for text in texts]\n",
    "    return torch.tensor(labels, dtype=torch.long)\n",
    "\n",
    "def extract_mfcc(audio_path):\n",
    "    \"\"\"Извлекает MFCC из аудиофайла.\"\"\"\n",
    "    try:\n",
    "        waveform, sample_rate = librosa.load(audio_path, sr=16000)\n",
    "        mfcc = librosa.feature.mfcc(y=waveform, sr=sample_rate, n_mfcc=input_dim)\n",
    "        return mfcc.T  # Транспонируем для удобства\n",
    "    except Exception as e:\n",
    "        print(f\"Error loading audio: {audio_path}, Error: {e}\")\n",
    "        return None \n",
    "\n",
    "# --- Тестирование модели ---\n",
    "def test_model(model, test_loader, criterion):\n",
    "    model.eval()  # Переключаем модель в режим оценки\n",
    "    test_loss = 0\n",
    "    test_correct = 0\n",
    "    test_total = 0\n",
    "\n",
    "    with torch.no_grad():  # Отключаем градиенты для тестирования\n",
    "        for batch_idx, (mfcc, texts) in enumerate(test_loader):\n",
    "            if mfcc is None:\n",
    "                continue\n",
    "\n",
    "            mfcc = mfcc.to(device)\n",
    "            labels = convert_texts_to_labels(texts).to(device)\n",
    "\n",
    "            outputs = model(mfcc)\n",
    "            loss = criterion(outputs, labels)\n",
    "\n",
    "            test_loss += loss.item()\n",
    "            _, predicted = torch.max(outputs, 1)\n",
    "            test_total += labels.size(0)\n",
    "            test_correct += (predicted == labels).sum().item()\n",
    "\n",
    "    test_epoch_loss = test_loss / len(test_loader)\n",
    "    test_epoch_accuracy = test_correct / test_total\n",
    "    print(f\"Test Loss: {test_epoch_loss:.4f}, Test Accuracy: {test_epoch_accuracy:.4f}\")\n",
    "    \n",
    "def pad_collate(batch):\n",
    "    mfccs, texts = zip(*batch)\n",
    "    mfccs = [m for m in mfccs if m is not None]\n",
    "    if len(mfccs) == 0:\n",
    "        return None, None\n",
    "    mfccs_padded = pad_sequence(mfccs, batch_first=True, padding_value=0.0)\n",
    "    return mfccs_padded, texts\n",
    "\n",
    "audio_folder_clear = './dataset/hr_bot_synt'\n",
    "json_file_clear = './dataset/annotation/hr_bot_synt.json'\n",
    "criterion = nn.CrossEntropyLoss()"
   ]
  },
  {
   "cell_type": "code",
   "execution_count": 21,
   "metadata": {},
   "outputs": [
    {
     "name": "stdout",
     "output_type": "stream",
     "text": [
      "Test Loss: 0.0222, Test Accuracy: 1.0000\n"
     ]
    }
   ],
   "source": [
    "\n",
    "# Создание тестового набора на чистых данных\n",
    "test_dataset = SpeechDataset(audio_folder_clear, json_file_clear, transform=extract_mfcc)\n",
    "test_dataset = [test_dataset[i] for i in range(20)]\n",
    "test_loader = DataLoader(test_dataset, batch_size=batch_size, shuffle=False, collate_fn=pad_collate)\n",
    "\n",
    "# Тестирование модели\n",
    "test_model(model, test_loader, criterion)"
   ]
  }
 ],
 "metadata": {
  "kernelspec": {
   "display_name": "venv",
   "language": "python",
   "name": "python3"
  },
  "language_info": {
   "codemirror_mode": {
    "name": "ipython",
    "version": 3
   },
   "file_extension": ".py",
   "mimetype": "text/x-python",
   "name": "python",
   "nbconvert_exporter": "python",
   "pygments_lexer": "ipython3",
   "version": "3.10.12"
  }
 },
 "nbformat": 4,
 "nbformat_minor": 2
}
