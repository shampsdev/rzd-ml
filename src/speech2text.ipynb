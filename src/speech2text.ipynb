{
 "cells": [
  {
   "cell_type": "code",
   "execution_count": 161,
   "metadata": {},
   "outputs": [],
   "source": [
    "import pandas as pd\n",
    "from sklearn.pipeline import Pipeline\n",
    "from sklearn.feature_extraction.text import TfidfVectorizer\n",
    "from sklearn.naive_bayes import MultinomialNB\n",
    "from sklearn.model_selection import train_test_split, cross_val_score"
   ]
  },
  {
   "cell_type": "code",
   "execution_count": 162,
   "metadata": {},
   "outputs": [
    {
     "name": "stdout",
     "output_type": "stream",
     "text": [
      "10/12/2024 14:39:32 - INFO - huggingsound.speech_recognition.model - Loading model...\n"
     ]
    }
   ],
   "source": [
    "from huggingsound import SpeechRecognitionModel\n",
    "\n",
    "model = SpeechRecognitionModel(\"jonatasgrosman/wav2vec2-large-xlsr-53-russian\")\n",
    "audio_paths = [\"dataset/hr_bot_clear/3a0cb44f-76ff-11ee-844c-c09bf4619c03.mp3\"]"
   ]
  },
  {
   "cell_type": "code",
   "execution_count": 163,
   "metadata": {},
   "outputs": [
    {
     "data": {
      "text/html": [
       "<div>\n",
       "<style scoped>\n",
       "    .dataframe tbody tr th:only-of-type {\n",
       "        vertical-align: middle;\n",
       "    }\n",
       "\n",
       "    .dataframe tbody tr th {\n",
       "        vertical-align: top;\n",
       "    }\n",
       "\n",
       "    .dataframe thead th {\n",
       "        text-align: right;\n",
       "    }\n",
       "</style>\n",
       "<table border=\"1\" class=\"dataframe\">\n",
       "  <thead>\n",
       "    <tr style=\"text-align: right;\">\n",
       "      <th></th>\n",
       "      <th>audio_filepath</th>\n",
       "      <th>id</th>\n",
       "      <th>text</th>\n",
       "      <th>label</th>\n",
       "      <th>attribute</th>\n",
       "    </tr>\n",
       "  </thead>\n",
       "  <tbody>\n",
       "    <tr>\n",
       "      <th>497</th>\n",
       "      <td>dataset/hr_bot_clear/45d7148c-76ff-11ee-a96c-c...</td>\n",
       "      <td>45d7148c-76ff-11ee-a96c-c09bf4619c03</td>\n",
       "      <td>протянуть на десять вагонов</td>\n",
       "      <td>10</td>\n",
       "      <td>10</td>\n",
       "    </tr>\n",
       "    <tr>\n",
       "      <th>747</th>\n",
       "      <td>dataset/hr_bot_clear/42647498-76ff-11ee-81a5-c...</td>\n",
       "      <td>42647498-76ff-11ee-81a5-c09bf4619c03</td>\n",
       "      <td>протянуть на один вагон</td>\n",
       "      <td>10</td>\n",
       "      <td>1</td>\n",
       "    </tr>\n",
       "    <tr>\n",
       "      <th>917</th>\n",
       "      <td>dataset/hr_bot_clear/8dde64eb-76ff-11ee-bfec-c...</td>\n",
       "      <td>8dde64eb-76ff-11ee-bfec-c09bf4619c03</td>\n",
       "      <td>осадить на один вагон</td>\n",
       "      <td>4</td>\n",
       "      <td>1</td>\n",
       "    </tr>\n",
       "    <tr>\n",
       "      <th>89</th>\n",
       "      <td>dataset/hr_bot_clear/6c90fe62-76ff-11ee-b2b1-c...</td>\n",
       "      <td>6c90fe62-76ff-11ee-b2b1-c09bf4619c03</td>\n",
       "      <td>осадить на пять вагонов</td>\n",
       "      <td>4</td>\n",
       "      <td>5</td>\n",
       "    </tr>\n",
       "    <tr>\n",
       "      <th>1474</th>\n",
       "      <td>dataset/hr_bot_clear/7ed4a616-76ff-11ee-a679-c...</td>\n",
       "      <td>7ed4a616-76ff-11ee-a679-c09bf4619c03</td>\n",
       "      <td>растянуть автосцепки</td>\n",
       "      <td>9</td>\n",
       "      <td>-1</td>\n",
       "    </tr>\n",
       "  </tbody>\n",
       "</table>\n",
       "</div>"
      ],
      "text/plain": [
       "                                         audio_filepath  \\\n",
       "497   dataset/hr_bot_clear/45d7148c-76ff-11ee-a96c-c...   \n",
       "747   dataset/hr_bot_clear/42647498-76ff-11ee-81a5-c...   \n",
       "917   dataset/hr_bot_clear/8dde64eb-76ff-11ee-bfec-c...   \n",
       "89    dataset/hr_bot_clear/6c90fe62-76ff-11ee-b2b1-c...   \n",
       "1474  dataset/hr_bot_clear/7ed4a616-76ff-11ee-a679-c...   \n",
       "\n",
       "                                        id                         text  \\\n",
       "497   45d7148c-76ff-11ee-a96c-c09bf4619c03  протянуть на десять вагонов   \n",
       "747   42647498-76ff-11ee-81a5-c09bf4619c03      протянуть на один вагон   \n",
       "917   8dde64eb-76ff-11ee-bfec-c09bf4619c03        осадить на один вагон   \n",
       "89    6c90fe62-76ff-11ee-b2b1-c09bf4619c03      осадить на пять вагонов   \n",
       "1474  7ed4a616-76ff-11ee-a679-c09bf4619c03         растянуть автосцепки   \n",
       "\n",
       "      label  attribute  \n",
       "497      10         10  \n",
       "747      10          1  \n",
       "917       4          1  \n",
       "89        4          5  \n",
       "1474      9         -1  "
      ]
     },
     "execution_count": 163,
     "metadata": {},
     "output_type": "execute_result"
    }
   ],
   "source": [
    "# Загрузите данные из файла CSV\n",
    "files: list[str] = [\n",
    "    # \"hr_bot_noise\",\n",
    "    \"hr_bot_clear\",\n",
    "    # \"hr_bot_synt\",\n",
    "    # \"dataset/annotation/luga.json\",\n",
    "]\n",
    "\n",
    "li = []\n",
    "for filename in files:\n",
    "    json_path = f\"dataset/annotation/{filename}.json\"\n",
    "    df = pd.read_json(json_path)\n",
    "    df[\"audio_filepath\"] = df[\"audio_filepath\"].apply(lambda x: f\"dataset/{filename}/{x}\")\n",
    "    li.append(df)\n",
    "data = pd.concat(li, axis=0, ignore_index=True)\n",
    "data = data.sample(frac=1)\n",
    "data.head()"
   ]
  },
  {
   "cell_type": "code",
   "execution_count": 164,
   "metadata": {},
   "outputs": [
    {
     "name": "stderr",
     "output_type": "stream",
     "text": [
      "100%|██████████| 100/100 [00:43<00:00,  2.32it/s]\n"
     ]
    }
   ],
   "source": [
    "data = data[:100]\n",
    "data[\"transcription\"] = model.transcribe(data[\"audio_filepath\"])"
   ]
  },
  {
   "cell_type": "code",
   "execution_count": 165,
   "metadata": {},
   "outputs": [
    {
     "data": {
      "text/html": [
       "<div>\n",
       "<style scoped>\n",
       "    .dataframe tbody tr th:only-of-type {\n",
       "        vertical-align: middle;\n",
       "    }\n",
       "\n",
       "    .dataframe tbody tr th {\n",
       "        vertical-align: top;\n",
       "    }\n",
       "\n",
       "    .dataframe thead th {\n",
       "        text-align: right;\n",
       "    }\n",
       "</style>\n",
       "<table border=\"1\" class=\"dataframe\">\n",
       "  <thead>\n",
       "    <tr style=\"text-align: right;\">\n",
       "      <th></th>\n",
       "      <th>audio_filepath</th>\n",
       "      <th>id</th>\n",
       "      <th>text</th>\n",
       "      <th>label</th>\n",
       "      <th>attribute</th>\n",
       "      <th>transcription</th>\n",
       "    </tr>\n",
       "  </thead>\n",
       "  <tbody>\n",
       "    <tr>\n",
       "      <th>497</th>\n",
       "      <td>dataset/hr_bot_clear/45d7148c-76ff-11ee-a96c-c...</td>\n",
       "      <td>45d7148c-76ff-11ee-a96c-c09bf4619c03</td>\n",
       "      <td>протянуть на десять вагонов</td>\n",
       "      <td>10</td>\n",
       "      <td>10</td>\n",
       "      <td>протянуть на десять вагонов</td>\n",
       "    </tr>\n",
       "    <tr>\n",
       "      <th>747</th>\n",
       "      <td>dataset/hr_bot_clear/42647498-76ff-11ee-81a5-c...</td>\n",
       "      <td>42647498-76ff-11ee-81a5-c09bf4619c03</td>\n",
       "      <td>протянуть на один вагон</td>\n",
       "      <td>10</td>\n",
       "      <td>1</td>\n",
       "      <td>протянуть на один вагон</td>\n",
       "    </tr>\n",
       "    <tr>\n",
       "      <th>917</th>\n",
       "      <td>dataset/hr_bot_clear/8dde64eb-76ff-11ee-bfec-c...</td>\n",
       "      <td>8dde64eb-76ff-11ee-bfec-c09bf4619c03</td>\n",
       "      <td>осадить на один вагон</td>\n",
       "      <td>4</td>\n",
       "      <td>1</td>\n",
       "      <td>а садить на  один вагон</td>\n",
       "    </tr>\n",
       "    <tr>\n",
       "      <th>89</th>\n",
       "      <td>dataset/hr_bot_clear/6c90fe62-76ff-11ee-b2b1-c...</td>\n",
       "      <td>6c90fe62-76ff-11ee-b2b1-c09bf4619c03</td>\n",
       "      <td>осадить на пять вагонов</td>\n",
       "      <td>4</td>\n",
       "      <td>5</td>\n",
       "      <td>а садить на пять вагонов</td>\n",
       "    </tr>\n",
       "    <tr>\n",
       "      <th>1474</th>\n",
       "      <td>dataset/hr_bot_clear/7ed4a616-76ff-11ee-a679-c...</td>\n",
       "      <td>7ed4a616-76ff-11ee-a679-c09bf4619c03</td>\n",
       "      <td>растянуть автосцепки</td>\n",
       "      <td>9</td>\n",
       "      <td>-1</td>\n",
       "      <td>растянуть автосцепки</td>\n",
       "    </tr>\n",
       "  </tbody>\n",
       "</table>\n",
       "</div>"
      ],
      "text/plain": [
       "                                         audio_filepath  \\\n",
       "497   dataset/hr_bot_clear/45d7148c-76ff-11ee-a96c-c...   \n",
       "747   dataset/hr_bot_clear/42647498-76ff-11ee-81a5-c...   \n",
       "917   dataset/hr_bot_clear/8dde64eb-76ff-11ee-bfec-c...   \n",
       "89    dataset/hr_bot_clear/6c90fe62-76ff-11ee-b2b1-c...   \n",
       "1474  dataset/hr_bot_clear/7ed4a616-76ff-11ee-a679-c...   \n",
       "\n",
       "                                        id                         text  \\\n",
       "497   45d7148c-76ff-11ee-a96c-c09bf4619c03  протянуть на десять вагонов   \n",
       "747   42647498-76ff-11ee-81a5-c09bf4619c03      протянуть на один вагон   \n",
       "917   8dde64eb-76ff-11ee-bfec-c09bf4619c03        осадить на один вагон   \n",
       "89    6c90fe62-76ff-11ee-b2b1-c09bf4619c03      осадить на пять вагонов   \n",
       "1474  7ed4a616-76ff-11ee-a679-c09bf4619c03         растянуть автосцепки   \n",
       "\n",
       "      label  attribute                transcription  \n",
       "497      10         10  протянуть на десять вагонов  \n",
       "747      10          1      протянуть на один вагон  \n",
       "917       4          1      а садить на  один вагон  \n",
       "89        4          5     а садить на пять вагонов  \n",
       "1474      9         -1         растянуть автосцепки  "
      ]
     },
     "execution_count": 165,
     "metadata": {},
     "output_type": "execute_result"
    }
   ],
   "source": [
    "data[\"transcription\"] = data[\"transcription\"].apply(lambda x: x[\"transcription\"])\n",
    "data.head()"
   ]
  },
  {
   "cell_type": "code",
   "execution_count": 166,
   "metadata": {},
   "outputs": [
    {
     "data": {
      "text/plain": [
       "0.8062843513429431"
      ]
     },
     "execution_count": 166,
     "metadata": {},
     "output_type": "execute_result"
    }
   ],
   "source": [
    "import joblib\n",
    "from sklearn.metrics import r2_score\n",
    "from label2id import label2id\n",
    "t2l_model = joblib.load(\"text2label.pkl\")\n",
    "labels = data[\"transcription\"].apply(lambda x: t2l_model.predict([x])[0]).apply(label2id)\n",
    "r2_score(labels, data[\"label\"])"
   ]
  },
  {
   "cell_type": "code",
   "execution_count": 167,
   "metadata": {},
   "outputs": [
    {
     "data": {
      "text/plain": [
       "0.7631384523245568"
      ]
     },
     "execution_count": 167,
     "metadata": {},
     "output_type": "execute_result"
    }
   ],
   "source": [
    "import joblib\n",
    "from label2id import label2id\n",
    "t2a_model = joblib.load(\"text2attr.pkl\")\n",
    "attrs = data[\"transcription\"].apply(lambda x: t2a_model.predict([x])[0])\n",
    "r2_score(attrs, data[\"attribute\"])"
   ]
  },
  {
   "cell_type": "code",
   "execution_count": null,
   "metadata": {},
   "outputs": [],
   "source": []
  }
 ],
 "metadata": {
  "kernelspec": {
   "display_name": ".venv",
   "language": "python",
   "name": "python3"
  },
  "language_info": {
   "codemirror_mode": {
    "name": "ipython",
    "version": 3
   },
   "file_extension": ".py",
   "mimetype": "text/x-python",
   "name": "python",
   "nbconvert_exporter": "python",
   "pygments_lexer": "ipython3",
   "version": "3.10.12"
  }
 },
 "nbformat": 4,
 "nbformat_minor": 2
}
