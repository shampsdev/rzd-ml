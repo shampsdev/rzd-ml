{
 "cells": [
  {
   "cell_type": "code",
   "execution_count": 168,
   "metadata": {},
   "outputs": [],
   "source": [
    "import pandas as pd\n",
    "from sklearn.pipeline import Pipeline\n",
    "from sklearn.feature_extraction.text import TfidfVectorizer\n",
    "from sklearn.naive_bayes import MultinomialNB\n",
    "from sklearn.model_selection import train_test_split, cross_val_score"
   ]
  },
  {
   "cell_type": "code",
   "execution_count": 169,
   "metadata": {},
   "outputs": [
    {
     "name": "stdout",
     "output_type": "stream",
     "text": [
      "10/12/2024 16:25:36 - INFO - huggingsound.speech_recognition.model - Loading model...\n"
     ]
    }
   ],
   "source": [
    "from huggingsound import SpeechRecognitionModel\n",
    "\n",
    "model = SpeechRecognitionModel(\"jonatasgrosman/wav2vec2-large-xlsr-53-russian\")\n",
    "audio_paths = [\"dataset/hr_bot_clear/3a0cb44f-76ff-11ee-844c-c09bf4619c03.mp3\"]"
   ]
  },
  {
   "cell_type": "code",
   "execution_count": 170,
   "metadata": {},
   "outputs": [
    {
     "data": {
      "text/html": [
       "<div>\n",
       "<style scoped>\n",
       "    .dataframe tbody tr th:only-of-type {\n",
       "        vertical-align: middle;\n",
       "    }\n",
       "\n",
       "    .dataframe tbody tr th {\n",
       "        vertical-align: top;\n",
       "    }\n",
       "\n",
       "    .dataframe thead th {\n",
       "        text-align: right;\n",
       "    }\n",
       "</style>\n",
       "<table border=\"1\" class=\"dataframe\">\n",
       "  <thead>\n",
       "    <tr style=\"text-align: right;\">\n",
       "      <th></th>\n",
       "      <th>audio_filepath</th>\n",
       "      <th>id</th>\n",
       "      <th>text</th>\n",
       "      <th>label</th>\n",
       "      <th>attribute</th>\n",
       "    </tr>\n",
       "  </thead>\n",
       "  <tbody>\n",
       "    <tr>\n",
       "      <th>48</th>\n",
       "      <td>dataset/hr_bot_noise/50a3b202-76fe-11ee-bbaa-c...</td>\n",
       "      <td>50a3b202-76fe-11ee-bbaa-c09bf4619c03</td>\n",
       "      <td>осадить на девять вагонов</td>\n",
       "      <td>4</td>\n",
       "      <td>9</td>\n",
       "    </tr>\n",
       "    <tr>\n",
       "      <th>1086</th>\n",
       "      <td>dataset/hr_bot_clear/65ecbc1d-76ff-11ee-87b1-c...</td>\n",
       "      <td>65ecbc1d-76ff-11ee-87b1-c09bf4619c03</td>\n",
       "      <td>продолжаем осаживание</td>\n",
       "      <td>5</td>\n",
       "      <td>-1</td>\n",
       "    </tr>\n",
       "    <tr>\n",
       "      <th>1208</th>\n",
       "      <td>dataset/hr_bot_clear/39039b4f-76ff-11ee-9039-c...</td>\n",
       "      <td>39039b4f-76ff-11ee-9039-c09bf4619c03</td>\n",
       "      <td>протянуть на три вагона</td>\n",
       "      <td>10</td>\n",
       "      <td>3</td>\n",
       "    </tr>\n",
       "    <tr>\n",
       "      <th>2591</th>\n",
       "      <td>dataset/hr_bot_clear/44adf89b-76ff-11ee-8943-c...</td>\n",
       "      <td>44adf89b-76ff-11ee-8943-c09bf4619c03</td>\n",
       "      <td>отцепка</td>\n",
       "      <td>11</td>\n",
       "      <td>-1</td>\n",
       "    </tr>\n",
       "    <tr>\n",
       "      <th>11</th>\n",
       "      <td>dataset/hr_bot_noise/6a08ef79-76fe-11ee-9305-c...</td>\n",
       "      <td>6a08ef79-76fe-11ee-9305-c09bf4619c03</td>\n",
       "      <td>назад на башмак</td>\n",
       "      <td>12</td>\n",
       "      <td>-1</td>\n",
       "    </tr>\n",
       "  </tbody>\n",
       "</table>\n",
       "</div>"
      ],
      "text/plain": [
       "                                         audio_filepath  \\\n",
       "48    dataset/hr_bot_noise/50a3b202-76fe-11ee-bbaa-c...   \n",
       "1086  dataset/hr_bot_clear/65ecbc1d-76ff-11ee-87b1-c...   \n",
       "1208  dataset/hr_bot_clear/39039b4f-76ff-11ee-9039-c...   \n",
       "2591  dataset/hr_bot_clear/44adf89b-76ff-11ee-8943-c...   \n",
       "11    dataset/hr_bot_noise/6a08ef79-76fe-11ee-9305-c...   \n",
       "\n",
       "                                        id                       text  label  \\\n",
       "48    50a3b202-76fe-11ee-bbaa-c09bf4619c03  осадить на девять вагонов      4   \n",
       "1086  65ecbc1d-76ff-11ee-87b1-c09bf4619c03      продолжаем осаживание      5   \n",
       "1208  39039b4f-76ff-11ee-9039-c09bf4619c03    протянуть на три вагона     10   \n",
       "2591  44adf89b-76ff-11ee-8943-c09bf4619c03                    отцепка     11   \n",
       "11    6a08ef79-76fe-11ee-9305-c09bf4619c03            назад на башмак     12   \n",
       "\n",
       "      attribute  \n",
       "48            9  \n",
       "1086         -1  \n",
       "1208          3  \n",
       "2591         -1  \n",
       "11           -1  "
      ]
     },
     "execution_count": 170,
     "metadata": {},
     "output_type": "execute_result"
    }
   ],
   "source": [
    "# Загрузите данные из файла CSV\n",
    "files: list[str] = [\n",
    "    \"hr_bot_noise\",\n",
    "    \"hr_bot_clear\",\n",
    "    # \"hr_bot_synt\",\n",
    "    # \"dataset/annotation/luga.json\",\n",
    "]\n",
    "\n",
    "li = []\n",
    "for filename in files:\n",
    "    json_path = f\"dataset/annotation/{filename}.json\"\n",
    "    df = pd.read_json(json_path)\n",
    "    df[\"audio_filepath\"] = df[\"audio_filepath\"].apply(lambda x: f\"dataset/{filename}/{x}\")\n",
    "    li.append(df)\n",
    "data = pd.concat(li, axis=0, ignore_index=True)\n",
    "data = data.sample(frac=1)\n",
    "data.head()"
   ]
  },
  {
   "cell_type": "code",
   "execution_count": 171,
   "metadata": {},
   "outputs": [
    {
     "name": "stderr",
     "output_type": "stream",
     "text": [
      "100%|██████████| 2655/2655 [20:03<00:00,  2.21it/s]\n"
     ]
    }
   ],
   "source": [
    "data[\"transcription\"] = model.transcribe(data[\"audio_filepath\"])"
   ]
  },
  {
   "cell_type": "code",
   "execution_count": 172,
   "metadata": {},
   "outputs": [
    {
     "data": {
      "text/html": [
       "<div>\n",
       "<style scoped>\n",
       "    .dataframe tbody tr th:only-of-type {\n",
       "        vertical-align: middle;\n",
       "    }\n",
       "\n",
       "    .dataframe tbody tr th {\n",
       "        vertical-align: top;\n",
       "    }\n",
       "\n",
       "    .dataframe thead th {\n",
       "        text-align: right;\n",
       "    }\n",
       "</style>\n",
       "<table border=\"1\" class=\"dataframe\">\n",
       "  <thead>\n",
       "    <tr style=\"text-align: right;\">\n",
       "      <th></th>\n",
       "      <th>audio_filepath</th>\n",
       "      <th>id</th>\n",
       "      <th>text</th>\n",
       "      <th>label</th>\n",
       "      <th>attribute</th>\n",
       "      <th>transcription</th>\n",
       "    </tr>\n",
       "  </thead>\n",
       "  <tbody>\n",
       "    <tr>\n",
       "      <th>48</th>\n",
       "      <td>dataset/hr_bot_noise/50a3b202-76fe-11ee-bbaa-c...</td>\n",
       "      <td>50a3b202-76fe-11ee-bbaa-c09bf4619c03</td>\n",
       "      <td>осадить на девять вагонов</td>\n",
       "      <td>4</td>\n",
       "      <td>9</td>\n",
       "      <td>вас садите на девять вагонов</td>\n",
       "    </tr>\n",
       "    <tr>\n",
       "      <th>1086</th>\n",
       "      <td>dataset/hr_bot_clear/65ecbc1d-76ff-11ee-87b1-c...</td>\n",
       "      <td>65ecbc1d-76ff-11ee-87b1-c09bf4619c03</td>\n",
       "      <td>продолжаем осаживание</td>\n",
       "      <td>5</td>\n",
       "      <td>-1</td>\n",
       "      <td>продолжаем осаживание</td>\n",
       "    </tr>\n",
       "    <tr>\n",
       "      <th>1208</th>\n",
       "      <td>dataset/hr_bot_clear/39039b4f-76ff-11ee-9039-c...</td>\n",
       "      <td>39039b4f-76ff-11ee-9039-c09bf4619c03</td>\n",
       "      <td>протянуть на три вагона</td>\n",
       "      <td>10</td>\n",
       "      <td>3</td>\n",
       "      <td>протянуть на три вагон</td>\n",
       "    </tr>\n",
       "    <tr>\n",
       "      <th>2591</th>\n",
       "      <td>dataset/hr_bot_clear/44adf89b-76ff-11ee-8943-c...</td>\n",
       "      <td>44adf89b-76ff-11ee-8943-c09bf4619c03</td>\n",
       "      <td>отцепка</td>\n",
       "      <td>11</td>\n",
       "      <td>-1</td>\n",
       "      <td>отцепка</td>\n",
       "    </tr>\n",
       "    <tr>\n",
       "      <th>11</th>\n",
       "      <td>dataset/hr_bot_noise/6a08ef79-76fe-11ee-9305-c...</td>\n",
       "      <td>6a08ef79-76fe-11ee-9305-c09bf4619c03</td>\n",
       "      <td>назад на башмак</td>\n",
       "      <td>12</td>\n",
       "      <td>-1</td>\n",
       "      <td>назад на башмак</td>\n",
       "    </tr>\n",
       "  </tbody>\n",
       "</table>\n",
       "</div>"
      ],
      "text/plain": [
       "                                         audio_filepath  \\\n",
       "48    dataset/hr_bot_noise/50a3b202-76fe-11ee-bbaa-c...   \n",
       "1086  dataset/hr_bot_clear/65ecbc1d-76ff-11ee-87b1-c...   \n",
       "1208  dataset/hr_bot_clear/39039b4f-76ff-11ee-9039-c...   \n",
       "2591  dataset/hr_bot_clear/44adf89b-76ff-11ee-8943-c...   \n",
       "11    dataset/hr_bot_noise/6a08ef79-76fe-11ee-9305-c...   \n",
       "\n",
       "                                        id                       text  label  \\\n",
       "48    50a3b202-76fe-11ee-bbaa-c09bf4619c03  осадить на девять вагонов      4   \n",
       "1086  65ecbc1d-76ff-11ee-87b1-c09bf4619c03      продолжаем осаживание      5   \n",
       "1208  39039b4f-76ff-11ee-9039-c09bf4619c03    протянуть на три вагона     10   \n",
       "2591  44adf89b-76ff-11ee-8943-c09bf4619c03                    отцепка     11   \n",
       "11    6a08ef79-76fe-11ee-9305-c09bf4619c03            назад на башмак     12   \n",
       "\n",
       "      attribute                 transcription  \n",
       "48            9  вас садите на девять вагонов  \n",
       "1086         -1         продолжаем осаживание  \n",
       "1208          3        протянуть на три вагон  \n",
       "2591         -1                       отцепка  \n",
       "11           -1               назад на башмак  "
      ]
     },
     "execution_count": 172,
     "metadata": {},
     "output_type": "execute_result"
    }
   ],
   "source": [
    "data[\"transcription\"] = data[\"transcription\"].apply(lambda x: x[\"transcription\"])\n",
    "data.to_csv(\"dataset/transcribed.csv\")\n",
    "data.head()"
   ]
  },
  {
   "cell_type": "code",
   "execution_count": 175,
   "metadata": {},
   "outputs": [
    {
     "data": {
      "text/plain": [
       "0.703522423865256"
      ]
     },
     "execution_count": 175,
     "metadata": {},
     "output_type": "execute_result"
    }
   ],
   "source": [
    "import joblib\n",
    "from sklearn.metrics import r2_score\n",
    "from label2id import label2id\n",
    "t2l_model = joblib.load(\"text2label.pkl\")\n",
    "labels = data[\"transcription\"].apply(lambda x: t2l_model.predict([x])[0]).apply(label2id)\n",
    "r2_score(labels, data[\"label\"])"
   ]
  },
  {
   "cell_type": "code",
   "execution_count": 176,
   "metadata": {},
   "outputs": [
    {
     "data": {
      "text/plain": [
       "0.7747477677184256"
      ]
     },
     "execution_count": 176,
     "metadata": {},
     "output_type": "execute_result"
    }
   ],
   "source": [
    "import joblib\n",
    "from label2id import label2id\n",
    "t2a_model = joblib.load(\"text2attr.pkl\")\n",
    "attrs = data[\"transcription\"].apply(lambda x: t2a_model.predict([x])[0])\n",
    "r2_score(attrs, data[\"attribute\"])"
   ]
  },
  {
   "cell_type": "code",
   "execution_count": null,
   "metadata": {},
   "outputs": [],
   "source": []
  }
 ],
 "metadata": {
  "kernelspec": {
   "display_name": ".venv",
   "language": "python",
   "name": "python3"
  },
  "language_info": {
   "codemirror_mode": {
    "name": "ipython",
    "version": 3
   },
   "file_extension": ".py",
   "mimetype": "text/x-python",
   "name": "python",
   "nbconvert_exporter": "python",
   "pygments_lexer": "ipython3",
   "version": "3.10.12"
  }
 },
 "nbformat": 4,
 "nbformat_minor": 2
}
