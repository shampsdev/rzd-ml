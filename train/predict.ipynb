{
 "cells": [
  {
   "cell_type": "code",
   "execution_count": 109,
   "metadata": {},
   "outputs": [],
   "source": [
    "import joblib\n",
    "\n",
    "text2attr = joblib.load(\"trained/text2attr.pkl\")\n",
    "text2label = joblib.load(\"trained/text2label.pkl\")"
   ]
  },
  {
   "cell_type": "code",
   "execution_count": 110,
   "metadata": {},
   "outputs": [
    {
     "data": {
      "text/html": [
       "<div>\n",
       "<style scoped>\n",
       "    .dataframe tbody tr th:only-of-type {\n",
       "        vertical-align: middle;\n",
       "    }\n",
       "\n",
       "    .dataframe tbody tr th {\n",
       "        vertical-align: top;\n",
       "    }\n",
       "\n",
       "    .dataframe thead th {\n",
       "        text-align: right;\n",
       "    }\n",
       "</style>\n",
       "<table border=\"1\" class=\"dataframe\">\n",
       "  <thead>\n",
       "    <tr style=\"text-align: right;\">\n",
       "      <th></th>\n",
       "      <th>audio_filepath</th>\n",
       "      <th>id</th>\n",
       "      <th>text</th>\n",
       "      <th>label</th>\n",
       "      <th>attribute</th>\n",
       "      <th>denoise_filepath</th>\n",
       "      <th>transcription</th>\n",
       "    </tr>\n",
       "  </thead>\n",
       "  <tbody>\n",
       "    <tr>\n",
       "      <th>4</th>\n",
       "      <td>dataset/luga/15_11_2023/2023_11_15__09_41_25.wav</td>\n",
       "      <td>2023_11_15__09_41_25</td>\n",
       "      <td>вышел из межвагонного пространства</td>\n",
       "      <td>7</td>\n",
       "      <td>-1</td>\n",
       "      <td>dataset/luga_denoise/15_11_2023/2023_11_15__09...</td>\n",
       "      <td>выселозмез выгоного пространство</td>\n",
       "    </tr>\n",
       "    <tr>\n",
       "      <th>164</th>\n",
       "      <td>dataset/luga/21_11_2023/2023_11_21__10_41_18.wav</td>\n",
       "      <td>2023_11_21__10_41_18</td>\n",
       "      <td>протянуть на двадцать шесть вагонов</td>\n",
       "      <td>10</td>\n",
       "      <td>26</td>\n",
       "      <td>dataset/luga_denoise/21_11_2023/2023_11_21__10...</td>\n",
       "      <td>протянут надзадти все свагонов</td>\n",
       "    </tr>\n",
       "    <tr>\n",
       "      <th>508</th>\n",
       "      <td>dataset/luga/03_07_2023/3fa77f6c-846e-11ee-869...</td>\n",
       "      <td>3fa77f6c-846e-11ee-869b-c09bf4619c03</td>\n",
       "      <td>протянуть на тринадцать вагонов</td>\n",
       "      <td>10</td>\n",
       "      <td>13</td>\n",
       "      <td>dataset/luga_denoise/03_07_2023/3fa77f6c-846e-...</td>\n",
       "      <td>протянутно тринадцать вагонот</td>\n",
       "    </tr>\n",
       "    <tr>\n",
       "      <th>18</th>\n",
       "      <td>dataset/luga/03_07_2023/3fba2d30-846e-11ee-8d3...</td>\n",
       "      <td>3fba2d30-846e-11ee-8d39-c09bf4619c03</td>\n",
       "      <td>осадить на три вагона</td>\n",
       "      <td>4</td>\n",
       "      <td>3</td>\n",
       "      <td>dataset/luga_denoise/03_07_2023/3fba2d30-846e-...</td>\n",
       "      <td>осадить на  три вагона</td>\n",
       "    </tr>\n",
       "    <tr>\n",
       "      <th>328</th>\n",
       "      <td>dataset/luga/15_11_2023/2023_11_15__10_28_46.wav</td>\n",
       "      <td>2023_11_15__10_28_46</td>\n",
       "      <td>назад с башмака</td>\n",
       "      <td>17</td>\n",
       "      <td>-1</td>\n",
       "      <td>dataset/luga_denoise/15_11_2023/2023_11_15__10...</td>\n",
       "      <td>назад воснута</td>\n",
       "    </tr>\n",
       "  </tbody>\n",
       "</table>\n",
       "</div>"
      ],
      "text/plain": [
       "                                        audio_filepath  \\\n",
       "4     dataset/luga/15_11_2023/2023_11_15__09_41_25.wav   \n",
       "164   dataset/luga/21_11_2023/2023_11_21__10_41_18.wav   \n",
       "508  dataset/luga/03_07_2023/3fa77f6c-846e-11ee-869...   \n",
       "18   dataset/luga/03_07_2023/3fba2d30-846e-11ee-8d3...   \n",
       "328   dataset/luga/15_11_2023/2023_11_15__10_28_46.wav   \n",
       "\n",
       "                                       id  \\\n",
       "4                    2023_11_15__09_41_25   \n",
       "164                  2023_11_21__10_41_18   \n",
       "508  3fa77f6c-846e-11ee-869b-c09bf4619c03   \n",
       "18   3fba2d30-846e-11ee-8d39-c09bf4619c03   \n",
       "328                  2023_11_15__10_28_46   \n",
       "\n",
       "                                    text  label  attribute  \\\n",
       "4     вышел из межвагонного пространства      7         -1   \n",
       "164  протянуть на двадцать шесть вагонов     10         26   \n",
       "508      протянуть на тринадцать вагонов     10         13   \n",
       "18                 осадить на три вагона      4          3   \n",
       "328                      назад с башмака     17         -1   \n",
       "\n",
       "                                      denoise_filepath  \\\n",
       "4    dataset/luga_denoise/15_11_2023/2023_11_15__09...   \n",
       "164  dataset/luga_denoise/21_11_2023/2023_11_21__10...   \n",
       "508  dataset/luga_denoise/03_07_2023/3fa77f6c-846e-...   \n",
       "18   dataset/luga_denoise/03_07_2023/3fba2d30-846e-...   \n",
       "328  dataset/luga_denoise/15_11_2023/2023_11_15__10...   \n",
       "\n",
       "                        transcription  \n",
       "4    выселозмез выгоного пространство  \n",
       "164    протянут надзадти все свагонов  \n",
       "508     протянутно тринадцать вагонот  \n",
       "18             осадить на  три вагона  \n",
       "328                     назад воснута  "
      ]
     },
     "execution_count": 110,
     "metadata": {},
     "output_type": "execute_result"
    }
   ],
   "source": [
    "import pandas as pd\n",
    "\n",
    "files: list[str] = [\n",
    "    # \"dataset/transcription/hr_bot_clear.csv\",\n",
    "    # \"dataset/transcription/hr_bot_noise.csv\",\n",
    "    # \"dataset/transcription/hr_bot_synt.csv\",\n",
    "    \"dataset/transcription/luga.csv\",\n",
    "]\n",
    "\n",
    "li = []\n",
    "for filename in files:\n",
    "    df = pd.read_csv(filename)\n",
    "    li.append(df)\n",
    "df = pd.concat(li, axis=0, ignore_index=True)\n",
    "df = df.sample(frac=1)\n",
    "df.head()"
   ]
  },
  {
   "cell_type": "code",
   "execution_count": 111,
   "metadata": {},
   "outputs": [],
   "source": [
    "X = df[\"transcription\"]\n",
    "y = df[\"text\"]"
   ]
  },
  {
   "cell_type": "code",
   "execution_count": 112,
   "metadata": {},
   "outputs": [],
   "source": [
    "df[\"label\"] = text2label.predict(X)\n",
    "df[\"attribute\"] = text2attr.predict(X)"
   ]
  },
  {
   "cell_type": "code",
   "execution_count": 113,
   "metadata": {},
   "outputs": [],
   "source": [
    "from label2id import parse_label\n",
    "y_pred = df.apply(lambda row: parse_label(row['label'], int(row['attribute'])), axis=1)"
   ]
  },
  {
   "cell_type": "code",
   "execution_count": 114,
   "metadata": {},
   "outputs": [
    {
     "name": "stdout",
     "output_type": "stream",
     "text": [
      "F1: 0.83\n",
      "Wer: 0.13\n"
     ]
    }
   ],
   "source": [
    "from jiwer import wer\n",
    "from sklearn.metrics import f1_score\n",
    "\n",
    "f1_w = f1_score(df[\"text\"], y_pred, average='weighted')\n",
    "print(f\"F1: {f1_w:.2f}\")\n",
    "w = wer(df[\"text\"].to_list(), y_pred.to_list())\n",
    "print(f\"Wer: {w:.2f}\")"
   ]
  }
 ],
 "metadata": {
  "kernelspec": {
   "display_name": "venv",
   "language": "python",
   "name": "python3"
  },
  "language_info": {
   "codemirror_mode": {
    "name": "ipython",
    "version": 3
   },
   "file_extension": ".py",
   "mimetype": "text/x-python",
   "name": "python",
   "nbconvert_exporter": "python",
   "pygments_lexer": "ipython3",
   "version": "3.10.12"
  }
 },
 "nbformat": 4,
 "nbformat_minor": 2
}
