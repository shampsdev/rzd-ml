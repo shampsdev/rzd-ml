{
 "cells": [
  {
   "cell_type": "markdown",
   "metadata": {},
   "source": [
    "### Создаём датасет с текстом, предсказанным SpeechToText"
   ]
  },
  {
   "cell_type": "code",
   "execution_count": 21,
   "metadata": {},
   "outputs": [
    {
     "name": "stdout",
     "output_type": "stream",
     "text": [
      "10/12/2024 23:19:43 - INFO - huggingsound.speech_recognition.model - Loading model...\n"
     ]
    }
   ],
   "source": [
    "from huggingsound import SpeechRecognitionModel\n",
    "\n",
    "model = SpeechRecognitionModel(\"jonatasgrosman/wav2vec2-large-xlsr-53-russian\")"
   ]
  },
  {
   "cell_type": "code",
   "execution_count": 22,
   "metadata": {},
   "outputs": [],
   "source": [
    "import pandas as pd\n",
    "import noisereduce as nr\n",
    "import soundfile as sf\n",
    "import librosa\n",
    "\n",
    "\n",
    "def generate_dataset(case: str):\n",
    "    json_path = f\"dataset/annotation/{case}.json\"\n",
    "    df = pd.read_json(json_path)\n",
    "    df[\"denoise_filepath\"] = df[\"audio_filepath\"].apply(lambda x: f\"dataset/{case}_denoise/{x}\")\n",
    "    df[\"audio_filepath\"] = df[\"audio_filepath\"].apply(lambda x: f\"dataset/{case}/{x}\")\n",
    "\n",
    "    # def denoise_audio(input_file, output_file):\n",
    "    #     y, sr = librosa.load(input_file, sr=None)\n",
    "    #     reduced_noise = nr.reduce_noise(y=y, sr=sr)\n",
    "    #     sf.write(output_file, reduced_noise, sr)\n",
    "    \n",
    "    # df.apply(lambda row: denoise_audio(row['audio_filepath'], row['denoise_filepath']), axis=1)\n",
    "\n",
    "    df[\"transcription\"] = model.transcribe(df[\"audio_filepath\"])\n",
    "    df[\"transcription\"] = df[\"transcription\"].apply(lambda x: x[\"transcription\"])\n",
    "    df.to_csv(f\"dataset/transcription/{case}.csv\", index=False)"
   ]
  },
  {
   "cell_type": "code",
   "execution_count": 23,
   "metadata": {},
   "outputs": [
    {
     "name": "stderr",
     "output_type": "stream",
     "text": [
      "100%|██████████| 1580/1580 [06:58<00:00,  3.78it/s]\n"
     ]
    }
   ],
   "source": [
    "generate_dataset(\"hr_bot_clear\")"
   ]
  },
  {
   "cell_type": "code",
   "execution_count": 24,
   "metadata": {},
   "outputs": [
    {
     "name": "stderr",
     "output_type": "stream",
     "text": [
      "  0%|          | 0/1075 [00:00<?, ?it/s]"
     ]
    },
    {
     "name": "stderr",
     "output_type": "stream",
     "text": [
      "100%|██████████| 1075/1075 [04:55<00:00,  3.64it/s]\n"
     ]
    }
   ],
   "source": [
    "generate_dataset(\"hr_bot_noise\")"
   ]
  },
  {
   "cell_type": "code",
   "execution_count": 25,
   "metadata": {},
   "outputs": [
    {
     "name": "stderr",
     "output_type": "stream",
     "text": [
      "  0%|          | 0/3160 [00:00<?, ?it/s]"
     ]
    },
    {
     "name": "stderr",
     "output_type": "stream",
     "text": [
      "100%|██████████| 3160/3160 [13:36<00:00,  3.87it/s]\n"
     ]
    }
   ],
   "source": [
    "generate_dataset(\"hr_bot_synt\")"
   ]
  },
  {
   "cell_type": "code",
   "execution_count": 26,
   "metadata": {},
   "outputs": [
    {
     "name": "stderr",
     "output_type": "stream",
     "text": [
      "100%|██████████| 610/610 [03:19<00:00,  3.05it/s]\n"
     ]
    }
   ],
   "source": [
    "generate_dataset(\"luga\")"
   ]
  }
 ],
 "metadata": {
  "kernelspec": {
   "display_name": "venv",
   "language": "python",
   "name": "python3"
  },
  "language_info": {
   "codemirror_mode": {
    "name": "ipython",
    "version": 3
   },
   "file_extension": ".py",
   "mimetype": "text/x-python",
   "name": "python",
   "nbconvert_exporter": "python",
   "pygments_lexer": "ipython3",
   "version": "3.10.12"
  }
 },
 "nbformat": 4,
 "nbformat_minor": 2
}
